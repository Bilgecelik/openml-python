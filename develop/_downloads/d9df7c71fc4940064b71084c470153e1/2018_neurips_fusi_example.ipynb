{
  "cells": [
    {
      "cell_type": "code",
      "execution_count": null,
      "metadata": {
        "collapsed": false
      },
      "outputs": [],
      "source": [
        "%matplotlib inline"
      ]
    },
    {
      "cell_type": "markdown",
      "metadata": {},
      "source": [
        "\nFusi et al. (2018)\n==================\n\nA tutorial on how to get the datasets used in the paper introducing *Probabilistic Matrix\nFactorization for Automated Machine Learning* by Fusi et al..\n\nPublication\n~~~~~~~~~~~\n\n| Probabilistic Matrix Factorization for Automated Machine Learning\n| Nicolo Fusi and Rishit Sheth and Melih Elibol\n| In *Advances in Neural Information Processing Systems 31*, 2018\n| Available at http://papers.nips.cc/paper/7595-probabilistic-matrix-factorization-for-automated-machine-learning.pdf\n\nThis is currently a placeholder.\n"
      ]
    }
  ],
  "metadata": {
    "kernelspec": {
      "display_name": "Python 3",
      "language": "python",
      "name": "python3"
    },
    "language_info": {
      "codemirror_mode": {
        "name": "ipython",
        "version": 3
      },
      "file_extension": ".py",
      "mimetype": "text/x-python",
      "name": "python",
      "nbconvert_exporter": "python",
      "pygments_lexer": "ipython3",
      "version": "3.7.4"
    }
  },
  "nbformat": 4,
  "nbformat_minor": 0
}