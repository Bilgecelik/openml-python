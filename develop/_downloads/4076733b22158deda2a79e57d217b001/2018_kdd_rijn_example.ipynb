{
  "cells": [
    {
      "cell_type": "code",
      "execution_count": null,
      "metadata": {
        "collapsed": false
      },
      "outputs": [],
      "source": [
        "%matplotlib inline"
      ]
    },
    {
      "cell_type": "markdown",
      "metadata": {},
      "source": [
        "\nvan Rijn and Hutter (2018)\n==========================\n\nA tutorial on how to reproduce the paper *Hyperparameter Importance Across Datasets*.\n\nPublication\n~~~~~~~~~~~\n\n| Hyperparameter importance across datasets\n| Jan van Rijn and Frank Hutter\n| In *Proceedings of the 24th ACM SIGKDD International Conference on Knowledge Discovery & Data Mining*, 2018\n| Available at https://dl.acm.org/citation.cfm?id=3220058\n\nThis is currently a placeholder.\n"
      ]
    }
  ],
  "metadata": {
    "kernelspec": {
      "display_name": "Python 3",
      "language": "python",
      "name": "python3"
    },
    "language_info": {
      "codemirror_mode": {
        "name": "ipython",
        "version": 3
      },
      "file_extension": ".py",
      "mimetype": "text/x-python",
      "name": "python",
      "nbconvert_exporter": "python",
      "pygments_lexer": "ipython3",
      "version": "3.7.4"
    }
  },
  "nbformat": 4,
  "nbformat_minor": 0
}