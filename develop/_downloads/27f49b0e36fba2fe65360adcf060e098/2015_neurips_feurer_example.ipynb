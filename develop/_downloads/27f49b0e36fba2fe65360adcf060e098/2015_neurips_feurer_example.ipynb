{
  "cells": [
    {
      "cell_type": "code",
      "execution_count": null,
      "metadata": {
        "collapsed": false
      },
      "outputs": [],
      "source": [
        "%matplotlib inline"
      ]
    },
    {
      "cell_type": "markdown",
      "metadata": {},
      "source": [
        "\nFeurer et al. (2015)\n====================\n\nA tutorial on how to get the datasets used in the paper introducing *Auto-sklearn* by Feurer et al..\n\nAuto-sklearn website: https://automl.github.io/auto-sklearn/master/\n\nPublication\n~~~~~~~~~~~\n\n| Efficient and Robust Automated Machine Learning\n| Matthias Feurer, Aaron Klein, Katharina Eggensperger, Jost Springenberg, Manuel Blum and Frank Hutter\n| In *Advances in Neural Information Processing Systems 28*, 2015\n| Available at http://papers.nips.cc/paper/5872-efficient-and-robust-automated-machine-learning.pdf\n\nThis is currently a placeholder.\n"
      ]
    }
  ],
  "metadata": {
    "kernelspec": {
      "display_name": "Python 3",
      "language": "python",
      "name": "python3"
    },
    "language_info": {
      "codemirror_mode": {
        "name": "ipython",
        "version": 3
      },
      "file_extension": ".py",
      "mimetype": "text/x-python",
      "name": "python",
      "nbconvert_exporter": "python",
      "pygments_lexer": "ipython3",
      "version": "3.7.4"
    }
  },
  "nbformat": 4,
  "nbformat_minor": 0
}