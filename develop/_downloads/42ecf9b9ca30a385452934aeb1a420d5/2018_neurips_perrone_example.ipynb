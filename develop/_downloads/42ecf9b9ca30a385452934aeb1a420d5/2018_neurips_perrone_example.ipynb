{
  "cells": [
    {
      "cell_type": "code",
      "execution_count": null,
      "metadata": {
        "collapsed": false
      },
      "outputs": [],
      "source": [
        "%matplotlib inline"
      ]
    },
    {
      "cell_type": "markdown",
      "metadata": {},
      "source": [
        "\nPerrone et al. (2018)\n=====================\n\nA tutorial on how to build a surrogate model based on OpenML data as done for *Scalable\nHyperparameter Transfer Learning* by Perrone et al..\n\nPublication\n~~~~~~~~~~~\n\n| Scalable Hyperparameter Transfer Learning\n| Valerio Perrone and Rodolphe Jenatton and Matthias Seeger and Cedric Archambeau\n| In *Advances in Neural Information Processing Systems 31*, 2018\n| Available at http://papers.nips.cc/paper/7917-scalable-hyperparameter-transfer-learning.pdf\n\nThis is currently a placeholder.\n"
      ]
    }
  ],
  "metadata": {
    "kernelspec": {
      "display_name": "Python 3",
      "language": "python",
      "name": "python3"
    },
    "language_info": {
      "codemirror_mode": {
        "name": "ipython",
        "version": 3
      },
      "file_extension": ".py",
      "mimetype": "text/x-python",
      "name": "python",
      "nbconvert_exporter": "python",
      "pygments_lexer": "ipython3",
      "version": "3.7.4"
    }
  },
  "nbformat": 4,
  "nbformat_minor": 0
}